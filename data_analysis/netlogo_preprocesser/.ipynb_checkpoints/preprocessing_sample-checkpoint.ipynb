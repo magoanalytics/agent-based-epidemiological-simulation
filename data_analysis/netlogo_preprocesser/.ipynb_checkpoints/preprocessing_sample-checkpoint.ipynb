{
 "cells": [
  {
   "cell_type": "code",
   "execution_count": 1,
   "metadata": {},
   "outputs": [],
   "source": [
    "import pandas as pd\n",
    "from netlogo_preprocess import process_netlogo"
   ]
  },
  {
   "cell_type": "code",
   "execution_count": 219,
   "metadata": {},
   "outputs": [],
   "source": [
    "# file_name,total_runs, columns, metrics,skip_rows,day, output_name"
   ]
  },
  {
   "cell_type": "code",
   "execution_count": 2,
   "metadata": {},
   "outputs": [
    {
     "name": "stdout",
     "output_type": "stream",
     "text": [
      "1.0 2.0 3.0 4.0 5.0 6.0 7.0 8.0 9.0 10.0 11.0 12.0 13.0 14.0 15.0 16.0 17.0 18.0 19.0 20.0 21.0 22.0 23.0 24.0 25.0 26.0 27.0 28.0 29.0 30.0 31.0 32.0 33.0 34.0 35.0 36.0 37.0 38.0 39.0 40.0 41.0 42.0 43.0 44.0 45.0 46.0 47.0 48.0 49.0 50.0 51.0 52.0 53.0 54.0 55.0 56.0 57.0 58.0 59.0 60.0 61.0 62.0 63.0 64.0 65.0 66.0 67.0 68.0 69.0 70.0 71.0 72.0 73.0 74.0 75.0 76.0 77.0 78.0 79.0 80.0 81.0 82.0 83.0 84.0 85.0 86.0 87.0 88.0 89.0 90.0 91.0 92.0 93.0 94.0 95.0 96.0 97.0 98.0 99.0 100.0 101.0 102.0 103.0 104.0 105.0 106.0 107.0 108.0 109.0 110.0 111.0 112.0 113.0 114.0 115.0 116.0 117.0 118.0 119.0 120.0 121.0 122.0 123.0 124.0 125.0 126.0 127.0 128.0 129.0 130.0 131.0 132.0 133.0 134.0 135.0 136.0 137.0 138.0 139.0 140.0 141.0 142.0 143.0 144.0 145.0 146.0 147.0 148.0 149.0 150.0 151.0 152.0 153.0 154.0 155.0 156.0 157.0 158.0 159.0 160.0 161.0 162.0 163.0 164.0 165.0 166.0 167.0 168.0 169.0 170.0 171.0 172.0 173.0 174.0 175.0 176.0 177.0 178.0 179.0 180.0 181.0 182.0 183.0 184.0 185.0 186.0 187.0 188.0 189.0 190.0 191.0 192.0 193.0 194.0 195.0 196.0 197.0 198.0 199.0 200.0 201.0 202.0 203.0 204.0 205.0 206.0 207.0 208.0 209.0 210.0 211.0 212.0 213.0 214.0 215.0 216.0 217.0 218.0 219.0 220.0 221.0 222.0 223.0 224.0 225.0 226.0 227.0 228.0 229.0 230.0 231.0 232.0 233.0 234.0 235.0 236.0 237.0 238.0 239.0 240.0 241.0 242.0 243.0 244.0 245.0 246.0 247.0 248.0 249.0 250.0 251.0 252.0 253.0 254.0 255.0 256.0 257.0 258.0 259.0 260.0 261.0 262.0 263.0 264.0 265.0 266.0 267.0 268.0 269.0 270.0 271.0 272.0 273.0 274.0 275.0 276.0 277.0 278.0 279.0 280.0 281.0 282.0 283.0 284.0 285.0 286.0 287.0 288.0 289.0 290.0 291.0 292.0 293.0 294.0 295.0 296.0 297.0 298.0 299.0 300.0 301.0 302.0 303.0 304.0 305.0 306.0 307.0 308.0 309.0 310.0 311.0 312.0 313.0 314.0 315.0 316.0 317.0 318.0 319.0 320.0 321.0 322.0 323.0 324.0 325.0 326.0 327.0 328.0 329.0 330.0 331.0 332.0 333.0 334.0 335.0 336.0 337.0 338.0 339.0 340.0 341.0 342.0 343.0 344.0 345.0 346.0 347.0 348.0 349.0 350.0 351.0 352.0 353.0 354.0 355.0 356.0 357.0 358.0 359.0 360.0 361.0 362.0 363.0 364.0 365.0 366.0 367.0 368.0 369.0 370.0 371.0 372.0 373.0 374.0 375.0 376.0 377.0 378.0 379.0 380.0 381.0 382.0 383.0 384.0 "
     ]
    },
    {
     "data": {
      "text/html": [
       "<div>\n",
       "<style scoped>\n",
       "    .dataframe tbody tr th:only-of-type {\n",
       "        vertical-align: middle;\n",
       "    }\n",
       "\n",
       "    .dataframe tbody tr th {\n",
       "        vertical-align: top;\n",
       "    }\n",
       "\n",
       "    .dataframe thead th {\n",
       "        text-align: right;\n",
       "    }\n",
       "</style>\n",
       "<table border=\"1\" class=\"dataframe\">\n",
       "  <thead>\n",
       "    <tr style=\"text-align: right;\">\n",
       "      <th></th>\n",
       "      <th>day</th>\n",
       "      <th>index</th>\n",
       "      <th>count turtles</th>\n",
       "      <th>count turtles with [infected? = false and recovered? = false]</th>\n",
       "      <th>count turtles with [infected? = true]</th>\n",
       "      <th>count turtles with [recovered? = true]</th>\n",
       "      <th>death-count</th>\n",
       "      <th>quarantined-count</th>\n",
       "      <th>max-infected-others</th>\n",
       "      <th>variance-infected-others</th>\n",
       "      <th>...</th>\n",
       "      <th>average-susceptibility</th>\n",
       "      <th>average-recovery-time</th>\n",
       "      <th>initial-population</th>\n",
       "      <th>initial-infected</th>\n",
       "      <th>average-death-rate</th>\n",
       "      <th>average-recovery-rate</th>\n",
       "      <th>quarantine-delay</th>\n",
       "      <th>mass-testing-intensity</th>\n",
       "      <th>social-distancing-intensity</th>\n",
       "      <th>lockdown-intensity</th>\n",
       "    </tr>\n",
       "  </thead>\n",
       "  <tbody>\n",
       "    <tr>\n",
       "      <th>0</th>\n",
       "      <td>0</td>\n",
       "      <td>0</td>\n",
       "      <td>5000.0</td>\n",
       "      <td>4999.0</td>\n",
       "      <td>1.0</td>\n",
       "      <td>0.0</td>\n",
       "      <td>0.0</td>\n",
       "      <td>0.0</td>\n",
       "      <td>0.0</td>\n",
       "      <td>0.000000</td>\n",
       "      <td>...</td>\n",
       "      <td>60.0</td>\n",
       "      <td>504.0</td>\n",
       "      <td>5000.0</td>\n",
       "      <td>1.0</td>\n",
       "      <td>0.2</td>\n",
       "      <td>90.0</td>\n",
       "      <td>1.0</td>\n",
       "      <td>0.0</td>\n",
       "      <td>0.0</td>\n",
       "      <td>0.0</td>\n",
       "    </tr>\n",
       "    <tr>\n",
       "      <th>1</th>\n",
       "      <td>1</td>\n",
       "      <td>24</td>\n",
       "      <td>4999.0</td>\n",
       "      <td>4979.0</td>\n",
       "      <td>20.0</td>\n",
       "      <td>0.0</td>\n",
       "      <td>1.0</td>\n",
       "      <td>0.0</td>\n",
       "      <td>6.0</td>\n",
       "      <td>1.435481</td>\n",
       "      <td>...</td>\n",
       "      <td>60.0</td>\n",
       "      <td>504.0</td>\n",
       "      <td>5000.0</td>\n",
       "      <td>1.0</td>\n",
       "      <td>0.2</td>\n",
       "      <td>90.0</td>\n",
       "      <td>1.0</td>\n",
       "      <td>0.0</td>\n",
       "      <td>0.0</td>\n",
       "      <td>0.0</td>\n",
       "    </tr>\n",
       "    <tr>\n",
       "      <th>2</th>\n",
       "      <td>2</td>\n",
       "      <td>48</td>\n",
       "      <td>4998.0</td>\n",
       "      <td>4951.0</td>\n",
       "      <td>47.0</td>\n",
       "      <td>0.0</td>\n",
       "      <td>2.0</td>\n",
       "      <td>0.0</td>\n",
       "      <td>8.0</td>\n",
       "      <td>1.580514</td>\n",
       "      <td>...</td>\n",
       "      <td>60.0</td>\n",
       "      <td>504.0</td>\n",
       "      <td>5000.0</td>\n",
       "      <td>1.0</td>\n",
       "      <td>0.2</td>\n",
       "      <td>90.0</td>\n",
       "      <td>1.0</td>\n",
       "      <td>0.0</td>\n",
       "      <td>0.0</td>\n",
       "      <td>0.0</td>\n",
       "    </tr>\n",
       "    <tr>\n",
       "      <th>3</th>\n",
       "      <td>3</td>\n",
       "      <td>72</td>\n",
       "      <td>4996.0</td>\n",
       "      <td>4917.0</td>\n",
       "      <td>79.0</td>\n",
       "      <td>0.0</td>\n",
       "      <td>4.0</td>\n",
       "      <td>0.0</td>\n",
       "      <td>10.0</td>\n",
       "      <td>1.658073</td>\n",
       "      <td>...</td>\n",
       "      <td>60.0</td>\n",
       "      <td>504.0</td>\n",
       "      <td>5000.0</td>\n",
       "      <td>1.0</td>\n",
       "      <td>0.2</td>\n",
       "      <td>90.0</td>\n",
       "      <td>1.0</td>\n",
       "      <td>0.0</td>\n",
       "      <td>0.0</td>\n",
       "      <td>0.0</td>\n",
       "    </tr>\n",
       "    <tr>\n",
       "      <th>4</th>\n",
       "      <td>4</td>\n",
       "      <td>96</td>\n",
       "      <td>4993.0</td>\n",
       "      <td>4878.0</td>\n",
       "      <td>115.0</td>\n",
       "      <td>0.0</td>\n",
       "      <td>7.0</td>\n",
       "      <td>0.0</td>\n",
       "      <td>12.0</td>\n",
       "      <td>1.819703</td>\n",
       "      <td>...</td>\n",
       "      <td>60.0</td>\n",
       "      <td>504.0</td>\n",
       "      <td>5000.0</td>\n",
       "      <td>1.0</td>\n",
       "      <td>0.2</td>\n",
       "      <td>90.0</td>\n",
       "      <td>1.0</td>\n",
       "      <td>0.0</td>\n",
       "      <td>0.0</td>\n",
       "      <td>0.0</td>\n",
       "    </tr>\n",
       "    <tr>\n",
       "      <th>...</th>\n",
       "      <td>...</td>\n",
       "      <td>...</td>\n",
       "      <td>...</td>\n",
       "      <td>...</td>\n",
       "      <td>...</td>\n",
       "      <td>...</td>\n",
       "      <td>...</td>\n",
       "      <td>...</td>\n",
       "      <td>...</td>\n",
       "      <td>...</td>\n",
       "      <td>...</td>\n",
       "      <td>...</td>\n",
       "      <td>...</td>\n",
       "      <td>...</td>\n",
       "      <td>...</td>\n",
       "      <td>...</td>\n",
       "      <td>...</td>\n",
       "      <td>...</td>\n",
       "      <td>...</td>\n",
       "      <td>...</td>\n",
       "      <td>...</td>\n",
       "    </tr>\n",
       "    <tr>\n",
       "      <th>56</th>\n",
       "      <td>56</td>\n",
       "      <td>1344</td>\n",
       "      <td>NaN</td>\n",
       "      <td>NaN</td>\n",
       "      <td>NaN</td>\n",
       "      <td>NaN</td>\n",
       "      <td>NaN</td>\n",
       "      <td>NaN</td>\n",
       "      <td>NaN</td>\n",
       "      <td>NaN</td>\n",
       "      <td>...</td>\n",
       "      <td>100.0</td>\n",
       "      <td>504.0</td>\n",
       "      <td>5000.0</td>\n",
       "      <td>1.0</td>\n",
       "      <td>0.2</td>\n",
       "      <td>90.0</td>\n",
       "      <td>7.0</td>\n",
       "      <td>100.0</td>\n",
       "      <td>90.0</td>\n",
       "      <td>100.0</td>\n",
       "    </tr>\n",
       "    <tr>\n",
       "      <th>57</th>\n",
       "      <td>57</td>\n",
       "      <td>1368</td>\n",
       "      <td>NaN</td>\n",
       "      <td>NaN</td>\n",
       "      <td>NaN</td>\n",
       "      <td>NaN</td>\n",
       "      <td>NaN</td>\n",
       "      <td>NaN</td>\n",
       "      <td>NaN</td>\n",
       "      <td>NaN</td>\n",
       "      <td>...</td>\n",
       "      <td>100.0</td>\n",
       "      <td>504.0</td>\n",
       "      <td>5000.0</td>\n",
       "      <td>1.0</td>\n",
       "      <td>0.2</td>\n",
       "      <td>90.0</td>\n",
       "      <td>7.0</td>\n",
       "      <td>100.0</td>\n",
       "      <td>90.0</td>\n",
       "      <td>100.0</td>\n",
       "    </tr>\n",
       "    <tr>\n",
       "      <th>58</th>\n",
       "      <td>58</td>\n",
       "      <td>1392</td>\n",
       "      <td>NaN</td>\n",
       "      <td>NaN</td>\n",
       "      <td>NaN</td>\n",
       "      <td>NaN</td>\n",
       "      <td>NaN</td>\n",
       "      <td>NaN</td>\n",
       "      <td>NaN</td>\n",
       "      <td>NaN</td>\n",
       "      <td>...</td>\n",
       "      <td>100.0</td>\n",
       "      <td>504.0</td>\n",
       "      <td>5000.0</td>\n",
       "      <td>1.0</td>\n",
       "      <td>0.2</td>\n",
       "      <td>90.0</td>\n",
       "      <td>7.0</td>\n",
       "      <td>100.0</td>\n",
       "      <td>90.0</td>\n",
       "      <td>100.0</td>\n",
       "    </tr>\n",
       "    <tr>\n",
       "      <th>59</th>\n",
       "      <td>59</td>\n",
       "      <td>1416</td>\n",
       "      <td>NaN</td>\n",
       "      <td>NaN</td>\n",
       "      <td>NaN</td>\n",
       "      <td>NaN</td>\n",
       "      <td>NaN</td>\n",
       "      <td>NaN</td>\n",
       "      <td>NaN</td>\n",
       "      <td>NaN</td>\n",
       "      <td>...</td>\n",
       "      <td>100.0</td>\n",
       "      <td>504.0</td>\n",
       "      <td>5000.0</td>\n",
       "      <td>1.0</td>\n",
       "      <td>0.2</td>\n",
       "      <td>90.0</td>\n",
       "      <td>7.0</td>\n",
       "      <td>100.0</td>\n",
       "      <td>90.0</td>\n",
       "      <td>100.0</td>\n",
       "    </tr>\n",
       "    <tr>\n",
       "      <th>60</th>\n",
       "      <td>60</td>\n",
       "      <td>1440</td>\n",
       "      <td>NaN</td>\n",
       "      <td>NaN</td>\n",
       "      <td>NaN</td>\n",
       "      <td>NaN</td>\n",
       "      <td>NaN</td>\n",
       "      <td>NaN</td>\n",
       "      <td>NaN</td>\n",
       "      <td>NaN</td>\n",
       "      <td>...</td>\n",
       "      <td>100.0</td>\n",
       "      <td>504.0</td>\n",
       "      <td>5000.0</td>\n",
       "      <td>1.0</td>\n",
       "      <td>0.2</td>\n",
       "      <td>90.0</td>\n",
       "      <td>7.0</td>\n",
       "      <td>100.0</td>\n",
       "      <td>90.0</td>\n",
       "      <td>100.0</td>\n",
       "    </tr>\n",
       "  </tbody>\n",
       "</table>\n",
       "<p>23424 rows × 22 columns</p>\n",
       "</div>"
      ],
      "text/plain": [
       "    day  index  count turtles  \\\n",
       "0     0      0         5000.0   \n",
       "1     1     24         4999.0   \n",
       "2     2     48         4998.0   \n",
       "3     3     72         4996.0   \n",
       "4     4     96         4993.0   \n",
       "..  ...    ...            ...   \n",
       "56   56   1344            NaN   \n",
       "57   57   1368            NaN   \n",
       "58   58   1392            NaN   \n",
       "59   59   1416            NaN   \n",
       "60   60   1440            NaN   \n",
       "\n",
       "    count turtles with [infected? = false and recovered? = false]  \\\n",
       "0                                              4999.0               \n",
       "1                                              4979.0               \n",
       "2                                              4951.0               \n",
       "3                                              4917.0               \n",
       "4                                              4878.0               \n",
       "..                                                ...               \n",
       "56                                                NaN               \n",
       "57                                                NaN               \n",
       "58                                                NaN               \n",
       "59                                                NaN               \n",
       "60                                                NaN               \n",
       "\n",
       "    count turtles with [infected? = true]  \\\n",
       "0                                     1.0   \n",
       "1                                    20.0   \n",
       "2                                    47.0   \n",
       "3                                    79.0   \n",
       "4                                   115.0   \n",
       "..                                    ...   \n",
       "56                                    NaN   \n",
       "57                                    NaN   \n",
       "58                                    NaN   \n",
       "59                                    NaN   \n",
       "60                                    NaN   \n",
       "\n",
       "    count turtles with [recovered? = true]  death-count  quarantined-count  \\\n",
       "0                                      0.0          0.0                0.0   \n",
       "1                                      0.0          1.0                0.0   \n",
       "2                                      0.0          2.0                0.0   \n",
       "3                                      0.0          4.0                0.0   \n",
       "4                                      0.0          7.0                0.0   \n",
       "..                                     ...          ...                ...   \n",
       "56                                     NaN          NaN                NaN   \n",
       "57                                     NaN          NaN                NaN   \n",
       "58                                     NaN          NaN                NaN   \n",
       "59                                     NaN          NaN                NaN   \n",
       "60                                     NaN          NaN                NaN   \n",
       "\n",
       "    max-infected-others  variance-infected-others  ...  \\\n",
       "0                   0.0                  0.000000  ...   \n",
       "1                   6.0                  1.435481  ...   \n",
       "2                   8.0                  1.580514  ...   \n",
       "3                  10.0                  1.658073  ...   \n",
       "4                  12.0                  1.819703  ...   \n",
       "..                  ...                       ...  ...   \n",
       "56                  NaN                       NaN  ...   \n",
       "57                  NaN                       NaN  ...   \n",
       "58                  NaN                       NaN  ...   \n",
       "59                  NaN                       NaN  ...   \n",
       "60                  NaN                       NaN  ...   \n",
       "\n",
       "    average-susceptibility  average-recovery-time  initial-population  \\\n",
       "0                     60.0                  504.0              5000.0   \n",
       "1                     60.0                  504.0              5000.0   \n",
       "2                     60.0                  504.0              5000.0   \n",
       "3                     60.0                  504.0              5000.0   \n",
       "4                     60.0                  504.0              5000.0   \n",
       "..                     ...                    ...                 ...   \n",
       "56                   100.0                  504.0              5000.0   \n",
       "57                   100.0                  504.0              5000.0   \n",
       "58                   100.0                  504.0              5000.0   \n",
       "59                   100.0                  504.0              5000.0   \n",
       "60                   100.0                  504.0              5000.0   \n",
       "\n",
       "    initial-infected  average-death-rate  average-recovery-rate  \\\n",
       "0                1.0                 0.2                   90.0   \n",
       "1                1.0                 0.2                   90.0   \n",
       "2                1.0                 0.2                   90.0   \n",
       "3                1.0                 0.2                   90.0   \n",
       "4                1.0                 0.2                   90.0   \n",
       "..               ...                 ...                    ...   \n",
       "56               1.0                 0.2                   90.0   \n",
       "57               1.0                 0.2                   90.0   \n",
       "58               1.0                 0.2                   90.0   \n",
       "59               1.0                 0.2                   90.0   \n",
       "60               1.0                 0.2                   90.0   \n",
       "\n",
       "    quarantine-delay  mass-testing-intensity  social-distancing-intensity  \\\n",
       "0                1.0                     0.0                          0.0   \n",
       "1                1.0                     0.0                          0.0   \n",
       "2                1.0                     0.0                          0.0   \n",
       "3                1.0                     0.0                          0.0   \n",
       "4                1.0                     0.0                          0.0   \n",
       "..               ...                     ...                          ...   \n",
       "56               7.0                   100.0                         90.0   \n",
       "57               7.0                   100.0                         90.0   \n",
       "58               7.0                   100.0                         90.0   \n",
       "59               7.0                   100.0                         90.0   \n",
       "60               7.0                   100.0                         90.0   \n",
       "\n",
       "    lockdown-intensity  \n",
       "0                  0.0  \n",
       "1                  0.0  \n",
       "2                  0.0  \n",
       "3                  0.0  \n",
       "4                  0.0  \n",
       "..                 ...  \n",
       "56               100.0  \n",
       "57               100.0  \n",
       "58               100.0  \n",
       "59               100.0  \n",
       "60               100.0  \n",
       "\n",
       "[23424 rows x 22 columns]"
      ]
     },
     "execution_count": 2,
     "metadata": {},
     "output_type": "execute_result"
    }
   ],
   "source": [
    "process_netlogo('../../raw_data/phase1_results_2.csv',384,9,11,24,60, 'output.csv')"
   ]
  },
  {
   "cell_type": "code",
   "execution_count": 224,
   "metadata": {
    "jupyter": {
     "source_hidden": true
    }
   },
   "outputs": [],
   "source": [
    "def process_raw_runs(file_name,total_runs, columns, metrics,skip_rows,day, output_name):\n",
    "    df = pd.DataFrame()\n",
    "    \n",
    "    fname = file_name\n",
    "    oname = output_name\n",
    "    runs = total_runs #20\n",
    "    col = columns #5\n",
    "    met = metrics #19\n",
    "    skip = skip_rows #32\n",
    "    days = 24 * (day + 1) #65\n",
    "\n",
    "    run_no = 1\n",
    "    n = 0\n",
    "    \n",
    "    while run_no <= (runs - 1):\n",
    "\n",
    "        metrics_df = pd.read_csv(fname,header = None,skiprows = 6, nrows = met, usecols =[0, 1+n])\n",
    "        metrics_df.columns = (['metric', 'value'])\n",
    "\n",
    "        sim_df = pd.read_csv(fname,header=0,skiprows = skip, nrows = days, \n",
    "                             usecols =[1+n, 2+n, 3+n, 4+n, 5+n, 6+n, 7+n, 8+n, 9+n][0:col])\n",
    "        sim_df = sim_df.reset_index()\n",
    "        sim_df = sim_df[(sim_df['index'] % 24) == 0].reset_index(drop = True)\n",
    "        sim_df.index = sim_df.index.set_names(['day'])\n",
    "        sim_df = sim_df.reset_index()\n",
    "\n",
    "        for index, row in metrics_df.iterrows():\n",
    "            sim_df['placeholder'] = row['value']\n",
    "            sim_df = sim_df.rename(columns = {'placeholder':row['metric']})\n",
    "\n",
    "        if n > 0:\n",
    "            sim_df.columns = df.columns\n",
    "        df = df.append(sim_df)\n",
    "\n",
    "        n += col\n",
    "        run_no = int(sim_df['[run number]'].max())\n",
    "        print(sim_df['[run number]'].max(), end=\" \")\n",
    "    \n",
    "    df = df.rename(columns = {'[run number]':'run number'})\n",
    "    df.to_csv(oname, index = False)\n",
    "    return df"
   ]
  },
  {
   "cell_type": "markdown",
   "metadata": {},
   "source": [
    " "
   ]
  },
  {
   "cell_type": "markdown",
   "metadata": {},
   "source": [
    " "
   ]
  },
  {
   "cell_type": "markdown",
   "metadata": {},
   "source": [
    " "
   ]
  },
  {
   "cell_type": "markdown",
   "metadata": {},
   "source": [
    " "
   ]
  },
  {
   "cell_type": "markdown",
   "metadata": {},
   "source": [
    "# Development Scratch"
   ]
  },
  {
   "cell_type": "code",
   "execution_count": 169,
   "metadata": {
    "collapsed": true,
    "jupyter": {
     "outputs_hidden": true,
     "source_hidden": true
    }
   },
   "outputs": [
    {
     "name": "stdout",
     "output_type": "stream",
     "text": [
      "1.0 2.0 3.0 4.0 5.0 6.0 7.0 8.0 9.0 10.0 11.0 12.0 13.0 14.0 15.0 16.0 17.0 18.0 19.0 20.0 21.0 22.0 23.0 24.0 25.0 26.0 27.0 28.0 29.0 30.0 31.0 32.0 33.0 34.0 35.0 36.0 37.0 38.0 39.0 40.0 41.0 42.0 43.0 44.0 45.0 46.0 47.0 48.0 49.0 50.0 51.0 52.0 53.0 54.0 55.0 56.0 57.0 58.0 59.0 60.0 61.0 62.0 63.0 64.0 65.0 66.0 67.0 68.0 69.0 70.0 71.0 72.0 73.0 74.0 75.0 76.0 77.0 78.0 79.0 80.0 81.0 82.0 83.0 84.0 85.0 86.0 87.0 88.0 89.0 90.0 91.0 92.0 93.0 94.0 95.0 96.0 97.0 98.0 99.0 100.0 101.0 102.0 103.0 104.0 105.0 106.0 107.0 108.0 109.0 110.0 111.0 112.0 113.0 114.0 115.0 116.0 117.0 118.0 119.0 120.0 121.0 122.0 123.0 124.0 125.0 126.0 127.0 128.0 129.0 130.0 131.0 132.0 133.0 134.0 135.0 136.0 137.0 138.0 139.0 140.0 141.0 142.0 143.0 144.0 145.0 146.0 147.0 148.0 149.0 150.0 151.0 152.0 153.0 154.0 155.0 156.0 157.0 158.0 159.0 160.0 161.0 162.0 163.0 164.0 165.0 166.0 167.0 168.0 169.0 170.0 171.0 172.0 173.0 174.0 175.0 176.0 177.0 178.0 179.0 180.0 181.0 182.0 183.0 184.0 185.0 186.0 187.0 188.0 189.0 190.0 191.0 192.0 193.0 194.0 195.0 196.0 197.0 198.0 199.0 200.0 201.0 202.0 203.0 204.0 205.0 206.0 207.0 208.0 209.0 210.0 211.0 212.0 213.0 214.0 215.0 216.0 217.0 218.0 219.0 220.0 221.0 222.0 223.0 224.0 225.0 226.0 227.0 228.0 229.0 230.0 231.0 232.0 233.0 234.0 235.0 236.0 237.0 238.0 239.0 240.0 241.0 242.0 243.0 244.0 245.0 246.0 247.0 248.0 249.0 250.0 251.0 252.0 253.0 254.0 255.0 256.0 257.0 258.0 259.0 260.0 261.0 262.0 263.0 264.0 265.0 266.0 267.0 268.0 269.0 270.0 271.0 272.0 273.0 274.0 275.0 276.0 277.0 278.0 279.0 280.0 281.0 282.0 283.0 284.0 285.0 286.0 287.0 288.0 289.0 290.0 291.0 292.0 293.0 294.0 295.0 296.0 297.0 298.0 299.0 300.0 301.0 302.0 303.0 304.0 305.0 306.0 307.0 308.0 309.0 310.0 311.0 312.0 313.0 314.0 315.0 316.0 317.0 318.0 319.0 320.0 321.0 322.0 323.0 324.0 325.0 326.0 327.0 328.0 329.0 330.0 331.0 332.0 333.0 334.0 335.0 336.0 337.0 338.0 339.0 340.0 341.0 342.0 343.0 344.0 345.0 346.0 347.0 348.0 349.0 350.0 351.0 352.0 353.0 354.0 355.0 356.0 357.0 358.0 359.0 360.0 361.0 362.0 363.0 364.0 365.0 366.0 367.0 368.0 369.0 370.0 371.0 372.0 373.0 374.0 375.0 376.0 377.0 378.0 379.0 380.0 381.0 382.0 383.0 384.0 "
     ]
    }
   ],
   "source": [
    "df = pd.DataFrame()\n",
    "\n",
    "run_no = 1\n",
    "n = 0\n",
    "runs = 384\n",
    "col = 9\n",
    "while run_no <= (runs - 1):\n",
    "\n",
    "    metrics_df = pd.read_csv('../raw_data/phase1_results_2.csv',header = None,skiprows = 6, nrows = 11, usecols =[0, 1+n])\n",
    "    metrics_df.columns = (['metric', 'value'])\n",
    "\n",
    "    sim_df = pd.read_csv('../raw_data/phase1_results_2.csv',header=0,skiprows = 24, nrows = 1564, \n",
    "                         usecols =[1+n, 2+n, 3+n, 4+n, 5+n, 6+n, 7+n, 8+n, 9+n][0:col])\n",
    "    sim_df = sim_df.reset_index()\n",
    "    sim_df = sim_df[(sim_df['index'] % 24) == 0].reset_index(drop = True)\n",
    "    sim_df.index = sim_df.index.set_names(['day'])\n",
    "    sim_df = sim_df.reset_index()\n",
    "\n",
    "    for index, row in metrics_df.iterrows():\n",
    "        sim_df['placeholder'] = row['value']\n",
    "        sim_df = sim_df.rename(columns = {'placeholder':row['metric']})\n",
    "\n",
    "    if n > 0:\n",
    "        sim_df.columns = df.columns\n",
    "    df = df.append(sim_df)\n",
    "    \n",
    "    n += col\n",
    "    run_no = sim_df['[run number]'].max()\n",
    "    print(sim_df['[run number]'].max(), end=\" \")"
   ]
  },
  {
   "cell_type": "code",
   "execution_count": 171,
   "metadata": {
    "collapsed": true,
    "jupyter": {
     "outputs_hidden": true,
     "source_hidden": true
    }
   },
   "outputs": [
    {
     "data": {
      "text/plain": [
       "374.0    66\n",
       "314.0    66\n",
       "187.0    66\n",
       "306.0    66\n",
       "367.0    66\n",
       "         ..\n",
       "209.0    66\n",
       "127.0    66\n",
       "210.0    66\n",
       "364.0    66\n",
       "1.0      66\n",
       "Name: [run number], Length: 384, dtype: int64"
      ]
     },
     "execution_count": 171,
     "metadata": {},
     "output_type": "execute_result"
    }
   ],
   "source": [
    "df['[run number]'].value_counts()"
   ]
  },
  {
   "cell_type": "code",
   "execution_count": 161,
   "metadata": {
    "jupyter": {
     "source_hidden": true
    }
   },
   "outputs": [],
   "source": [
    "n = 0"
   ]
  },
  {
   "cell_type": "code",
   "execution_count": 162,
   "metadata": {
    "jupyter": {
     "source_hidden": true
    }
   },
   "outputs": [],
   "source": [
    "metrics_df = pd.read_csv('../raw_data/phase1_results_2.csv',header = None,skiprows = 6, nrows = 11, usecols =[0, 1+0])\n",
    "metrics_df.columns = (['metric', 'value'])"
   ]
  },
  {
   "cell_type": "code",
   "execution_count": 163,
   "metadata": {
    "jupyter": {
     "source_hidden": true
    }
   },
   "outputs": [],
   "source": [
    "sim_df = pd.read_csv('../raw_data/phase1_results_2.csv',header=0,skiprows = 24, nrows = 1564, usecols =[1+n, 2+n, 3+n, 4+n, 5+n, 6+n, 7+n, 8+n, 9+n][0:9])\n",
    "sim_df = sim_df.reset_index()\n",
    "sim_df = sim_df[(sim_df['index'] % 24) == 0].reset_index(drop = True)\n",
    "sim_df.index = sim_df.index.set_names(['day'])\n",
    "sim_df = sim_df.reset_index()"
   ]
  },
  {
   "cell_type": "code",
   "execution_count": 164,
   "metadata": {
    "jupyter": {
     "source_hidden": true
    }
   },
   "outputs": [],
   "source": [
    "for index, row in metrics_df.iterrows():\n",
    "    sim_df['placeholder'] = row['value']\n",
    "    sim_df = sim_df.rename(columns = {'placeholder':row['metric']})"
   ]
  },
  {
   "cell_type": "code",
   "execution_count": 165,
   "metadata": {
    "jupyter": {
     "source_hidden": true
    }
   },
   "outputs": [],
   "source": [
    "if n > 0:\n",
    "    sim_df.columns = df.columns\n",
    "df = df.append(sim_df)"
   ]
  },
  {
   "cell_type": "code",
   "execution_count": 166,
   "metadata": {
    "collapsed": true,
    "jupyter": {
     "outputs_hidden": true,
     "source_hidden": true
    }
   },
   "outputs": [
    {
     "data": {
      "text/plain": [
       "1.0    66\n",
       "Name: [run number], dtype: int64"
      ]
     },
     "execution_count": 166,
     "metadata": {},
     "output_type": "execute_result"
    }
   ],
   "source": [
    "df['[run number]'].value_counts()"
   ]
  },
  {
   "cell_type": "code",
   "execution_count": null,
   "metadata": {
    "jupyter": {
     "source_hidden": true
    }
   },
   "outputs": [],
   "source": []
  }
 ],
 "metadata": {
  "kernelspec": {
   "display_name": "Python 3",
   "language": "python",
   "name": "python3"
  },
  "language_info": {
   "codemirror_mode": {
    "name": "ipython",
    "version": 3
   },
   "file_extension": ".py",
   "mimetype": "text/x-python",
   "name": "python",
   "nbconvert_exporter": "python",
   "pygments_lexer": "ipython3",
   "version": "3.7.3"
  }
 },
 "nbformat": 4,
 "nbformat_minor": 4
}
